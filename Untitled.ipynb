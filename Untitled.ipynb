{
 "cells": [
  {
   "cell_type": "code",
   "execution_count": 164,
   "metadata": {},
   "outputs": [],
   "source": [
    "import glob\n",
    "import dlib\n",
    "from skimage import io\n",
    "from scipy.spatial.distance import euclidean"
   ]
  },
  {
   "cell_type": "code",
   "execution_count": 165,
   "metadata": {},
   "outputs": [
    {
     "name": "stdout",
     "output_type": "stream",
     "text": [
      " ’®¬ ў гбва®©бвўҐ C ­Ґ Ё¬ҐҐв ¬ҐвЄЁ.\n",
      " ‘ҐаЁ©­л© ­®¬Ґа в®¬ : 169E-08D5\n",
      "\n",
      " ‘®¤Ґа¦Ё¬®Ґ Ї ЇЄЁ C:\\Users\\igor\\Data_science\\face_verification\n",
      "\n",
      "17.05.2020  01:41    <DIR>          .\n",
      "17.05.2020  01:41    <DIR>          ..\n",
      "16.05.2020  22:49    <DIR>          .ipynb_checkpoints\n",
      "16.05.2020  23:21           531я990 0.jpg\n",
      "16.05.2020  23:35           133я120 1.jpg\n",
      "16.05.2020  23:13        22я466я066 dlib_face_recognition_resnet_model_v1.dat\n",
      "17.05.2020  01:19    <DIR>          photo\n",
      "12.05.2020  18:40                19 README.md\n",
      "16.05.2020  23:11        99я693я937 shape_predictor_68_face_landmarks.dat\n",
      "17.05.2020  01:41            13я030 Untitled.ipynb\n",
      "               6 д ©«®ў    122я838я162 Ў ©в\n",
      "               4 Ї Ї®Є  19я235я876я864 Ў ©в бў®Ў®¤­®\n"
     ]
    }
   ],
   "source": [
    "ls"
   ]
  },
  {
   "cell_type": "code",
   "execution_count": 166,
   "metadata": {},
   "outputs": [],
   "source": [
    "sp = dlib.shape_predictor('shape_predictor_68_face_landmarks.dat')\n",
    "facerec = dlib.face_recognition_model_v1('dlib_face_recognition_resnet_model_v1.dat')\n",
    "detector = dlib.get_frontal_face_detector()"
   ]
  },
  {
   "cell_type": "code",
   "execution_count": 167,
   "metadata": {},
   "outputs": [],
   "source": [
    "pass_to_photo='photo'"
   ]
  },
  {
   "cell_type": "code",
   "execution_count": 168,
   "metadata": {},
   "outputs": [],
   "source": [
    "name_photo_file = glob.glob('*.jpg')"
   ]
  },
  {
   "cell_type": "code",
   "execution_count": 169,
   "metadata": {},
   "outputs": [
    {
     "data": {
      "text/plain": [
       "['0.jpg', '1.jpg']"
      ]
     },
     "execution_count": 169,
     "metadata": {},
     "output_type": "execute_result"
    }
   ],
   "source": [
    "name_photo_file"
   ]
  },
  {
   "cell_type": "code",
   "execution_count": 170,
   "metadata": {},
   "outputs": [],
   "source": [
    "list_names = [i.replace('\\\\', '/') for i in name_photo_file]"
   ]
  },
  {
   "cell_type": "code",
   "execution_count": 171,
   "metadata": {},
   "outputs": [
    {
     "data": {
      "text/plain": [
       "['0.jpg', '1.jpg']"
      ]
     },
     "execution_count": 171,
     "metadata": {},
     "output_type": "execute_result"
    }
   ],
   "source": [
    "list_names"
   ]
  },
  {
   "cell_type": "code",
   "execution_count": 172,
   "metadata": {},
   "outputs": [],
   "source": [
    "rects = []\n",
    "shapes=[]\n",
    "descriptors=[]\n",
    "for photo in list_names:\n",
    "    image_photo = io.imread(photo)\n",
    "    \n",
    "    detect_photo = detector(image_photo, 1)\n",
    "    rects.append(detect_photo[0])\n",
    "    \n",
    "    shape = sp(image_photo, detect_photo[0])\n",
    "    shapes.append(shape)\n",
    "    \n",
    "    face_desc = facerec.compute_face_descriptor(image_photo, shape)\n",
    "    descriptors.append(face_desc)"
   ]
  },
  {
   "cell_type": "code",
   "execution_count": 173,
   "metadata": {},
   "outputs": [
    {
     "data": {
      "text/plain": [
       "[dlib.vector([-0.131102, 0.135865, 0.00723623, -0.00534597, -0.114404, 0.0216557, 0.0477937, -0.182088, 0.0296487, -0.074783, 0.188515, -0.0705258, -0.372901, -0.108154, 0.0128783, 0.102306, -0.135751, -0.149891, -0.171249, -0.132126, -0.0276029, 0.0177046, -0.0503239, -0.0378278, -0.102704, -0.215894, -0.0650828, -0.116107, -0.0185656, -0.11606, 0.0795135, 0.00900637, -0.226207, -0.0722268, -0.0289678, 0.0584986, -0.0416456, -0.0377613, 0.134171, 0.0286275, -0.116464, -0.0212613, 0.0340775, 0.265438, 0.217025, -0.00558991, -0.0282934, -0.0888918, 0.140732, -0.266792, 0.0234648, 0.12399, 0.132395, 0.116477, 0.0287712, -0.129653, 0.0236603, 0.154431, -0.172715, 0.0777157, 0.0624914, -0.203104, -0.0294134, -0.0648619, 0.128888, 0.06007, -0.00988807, -0.137658, 0.229622, -0.192306, -0.18086, 0.00428023, -0.0579482, -0.141835, -0.357099, 0.0657938, 0.352998, 0.218165, -0.205759, -0.017885, -0.0774137, -0.0359511, 0.0665943, 0.0862572, 0.00586439, -0.0774614, -0.104757, -0.00332721, 0.246315, -0.0903716, -0.02135, 0.22409, -0.00142832, -0.0157606, 0.0587546, -0.0454091, -0.109196, -0.0318833, -0.119953, -0.0847358, -0.0114655, -0.140328, 0.0225416, 0.0985757, -0.137274, 0.194118, 7.4612e-05, -0.0305107, -0.0776113, -0.115295, 0.0205214, 0.0558771, 0.1971, -0.191956, 0.26339, 0.210369, -0.022069, 0.143441, 0.0653596, 0.0880348, -0.0251243, -0.0222378, -0.173934, -0.160375, 0.0434312, 0.0329285, 0.00851096, 0.0547626]),\n",
       " dlib.vector([-0.118051, 0.16627, 0.0321913, -0.0289489, -0.000796229, 0.0369729, 0.0177622, -0.128974, 0.133423, -0.0873998, 0.148797, -0.0445374, -0.305582, -0.0727701, -0.0224353, 0.144682, -0.149292, -0.135961, -0.17854, -0.184937, -0.0181773, 0.0906319, -0.0472541, -0.0323296, -0.16667, -0.183191, -0.0853607, -0.142453, 0.0542811, -0.0713479, 0.0392035, -0.0146552, -0.228891, -0.0788939, 0.0243009, 0.0770461, -0.107673, -0.0304768, 0.154931, 0.0571514, -0.080222, 0.010903, 0.0651067, 0.260835, 0.216491, -0.00724417, -0.00707557, -0.107635, 0.116378, -0.246366, 0.0485724, 0.146276, 0.124839, 0.229953, 0.0631461, -0.127524, 0.0375703, 0.17969, -0.168753, 0.156698, 0.100513, -0.225589, -0.0552046, 0.0303771, 0.0835299, 0.0380511, -0.0564253, -0.19502, 0.257048, -0.189823, -0.109551, 0.0667011, -0.00743256, -0.137636, -0.329182, 0.104816, 0.356781, 0.207421, -0.15819, 0.00271486, -0.0711574, -0.0458955, 0.0665461, 0.085706, -0.0120471, -0.141511, -0.0607438, -0.00736833, 0.237019, -0.0486051, -0.0116409, 0.196018, -0.00136437, -0.0226027, 0.0123738, 0.0341024, -0.15814, -0.0344139, -0.082096, -0.0471292, -0.0236621, -0.132399, -0.0110319, 0.0935068, -0.0984958, 0.229093, 0.0129857, -0.0600065, -0.0733146, -0.0288903, -0.0374949, 0.0334251, 0.200737, -0.207967, 0.282015, 0.2202, -0.0182285, 0.13398, 0.0988421, 0.126241, 0.0168356, -0.0189115, -0.175051, -0.191842, -0.00379315, 0.0313619, -0.0258683, 0.0509305])]"
      ]
     },
     "execution_count": 173,
     "metadata": {},
     "output_type": "execute_result"
    }
   ],
   "source": [
    "descriptors"
   ]
  },
  {
   "cell_type": "code",
   "execution_count": 174,
   "metadata": {},
   "outputs": [
    {
     "name": "stdout",
     "output_type": "stream",
     "text": [
      " 0.43373294853338207\n"
     ]
    }
   ],
   "source": [
    "print(' {0}'.format(euclidean(descriptors[0], descriptors[1])))"
   ]
  },
  {
   "cell_type": "code",
   "execution_count": 180,
   "metadata": {},
   "outputs": [
    {
     "data": {
      "text/plain": [
       "[rectangle(502,428,1167,1094), rectangle(86,574,175,664)]"
      ]
     },
     "execution_count": 180,
     "metadata": {},
     "output_type": "execute_result"
    }
   ],
   "source": [
    "rects"
   ]
  },
  {
   "cell_type": "code",
   "execution_count": 191,
   "metadata": {},
   "outputs": [],
   "source": [
    "win = dlib.image_window()\n",
    "win.add_overlay(rects[0])\n",
    "win.add_overlay(shapes[0])\n",
    "win.set_image(io.imread(list_names[0]))"
   ]
  },
  {
   "cell_type": "code",
   "execution_count": 178,
   "metadata": {},
   "outputs": [],
   "source": []
  },
  {
   "cell_type": "code",
   "execution_count": 190,
   "metadata": {},
   "outputs": [],
   "source": [
    "win = dlib.image_window()\n",
    "win.add_overlay(rects[1])\n",
    "win.add_overlay(shapes[1])\n",
    "win.set_image(io.imread(list_names[1]))"
   ]
  },
  {
   "cell_type": "code",
   "execution_count": 183,
   "metadata": {},
   "outputs": [],
   "source": [
    "win.set_image(io.imread(list_names[1]))"
   ]
  },
  {
   "cell_type": "code",
   "execution_count": 187,
   "metadata": {},
   "outputs": [
    {
     "data": {
      "text/plain": [
       "<dlib.image_window at 0x19b4ac88e68>"
      ]
     },
     "execution_count": 187,
     "metadata": {},
     "output_type": "execute_result"
    }
   ],
   "source": [
    "win"
   ]
  },
  {
   "cell_type": "code",
   "execution_count": null,
   "metadata": {},
   "outputs": [],
   "source": []
  },
  {
   "cell_type": "code",
   "execution_count": 127,
   "metadata": {},
   "outputs": [],
   "source": [
    "photo=list_names[1]"
   ]
  },
  {
   "cell_type": "code",
   "execution_count": 128,
   "metadata": {},
   "outputs": [
    {
     "ename": "TypeError",
     "evalue": "get_frontal_face_detector(): incompatible function arguments. The following argument types are supported:\n    1. () -> dlib::object_detector<dlib::scan_fhog_pyramid<dlib::pyramid_down<6>,dlib::default_fhog_feature_extractor> >\n\nInvoked with: array([[[244, 249, 243],\n        [237, 242, 235],\n        [235, 236, 230],\n        ...,\n        [254, 253, 248],\n        [ 14,  13,   9],\n        [ 14,  12,  13]],\n\n       [[249, 251, 246],\n        [235, 238, 231],\n        [227, 228, 220],\n        ...,\n        [254, 253, 248],\n        [ 15,  14,  10],\n        [ 14,  12,  13]],\n\n       [[241, 242, 236],\n        [231, 230, 225],\n        [233, 230, 223],\n        ...,\n        [254, 253, 248],\n        [ 15,  14,  10],\n        [ 15,  13,  14]],\n\n       ...,\n\n       [[222, 222, 210],\n        [226, 226, 214],\n        [232, 232, 220],\n        ...,\n        [249, 250, 245],\n        [ 15,  15,  13],\n        [ 14,  14,  14]],\n\n       [[231, 231, 221],\n        [229, 229, 219],\n        [225, 225, 215],\n        ...,\n        [249, 250, 245],\n        [ 15,  15,  13],\n        [ 14,  14,  14]],\n\n       [[226, 226, 216],\n        [231, 231, 221],\n        [230, 230, 220],\n        ...,\n        [249, 250, 245],\n        [ 15,  15,  13],\n        [ 14,  14,  14]]], dtype=uint8), 1",
     "output_type": "error",
     "traceback": [
      "\u001b[1;31m---------------------------------------------------------------------------\u001b[0m",
      "\u001b[1;31mTypeError\u001b[0m                                 Traceback (most recent call last)",
      "\u001b[1;32m<ipython-input-128-fbc8cd67ebf5>\u001b[0m in \u001b[0;36m<module>\u001b[1;34m\u001b[0m\n\u001b[0;32m      1\u001b[0m \u001b[0mimage_photo\u001b[0m \u001b[1;33m=\u001b[0m \u001b[0mio\u001b[0m\u001b[1;33m.\u001b[0m\u001b[0mimread\u001b[0m\u001b[1;33m(\u001b[0m\u001b[0mphoto\u001b[0m\u001b[1;33m)\u001b[0m\u001b[1;33m\u001b[0m\u001b[1;33m\u001b[0m\u001b[0m\n\u001b[0;32m      2\u001b[0m \u001b[1;33m\u001b[0m\u001b[0m\n\u001b[1;32m----> 3\u001b[1;33m \u001b[0mdetect_photo\u001b[0m \u001b[1;33m=\u001b[0m \u001b[0mdetector\u001b[0m\u001b[1;33m(\u001b[0m\u001b[0mimage_photo\u001b[0m\u001b[1;33m,\u001b[0m \u001b[1;36m1\u001b[0m\u001b[1;33m)\u001b[0m\u001b[1;33m\u001b[0m\u001b[1;33m\u001b[0m\u001b[0m\n\u001b[0m\u001b[0;32m      4\u001b[0m \u001b[0mrects\u001b[0m\u001b[1;33m.\u001b[0m\u001b[0mappend\u001b[0m\u001b[1;33m(\u001b[0m\u001b[0mdetect_photo\u001b[0m\u001b[1;33m[\u001b[0m\u001b[1;36m0\u001b[0m\u001b[1;33m]\u001b[0m\u001b[1;33m)\u001b[0m\u001b[1;33m\u001b[0m\u001b[1;33m\u001b[0m\u001b[0m\n\u001b[0;32m      5\u001b[0m \u001b[1;33m\u001b[0m\u001b[0m\n",
      "\u001b[1;31mTypeError\u001b[0m: get_frontal_face_detector(): incompatible function arguments. The following argument types are supported:\n    1. () -> dlib::object_detector<dlib::scan_fhog_pyramid<dlib::pyramid_down<6>,dlib::default_fhog_feature_extractor> >\n\nInvoked with: array([[[244, 249, 243],\n        [237, 242, 235],\n        [235, 236, 230],\n        ...,\n        [254, 253, 248],\n        [ 14,  13,   9],\n        [ 14,  12,  13]],\n\n       [[249, 251, 246],\n        [235, 238, 231],\n        [227, 228, 220],\n        ...,\n        [254, 253, 248],\n        [ 15,  14,  10],\n        [ 14,  12,  13]],\n\n       [[241, 242, 236],\n        [231, 230, 225],\n        [233, 230, 223],\n        ...,\n        [254, 253, 248],\n        [ 15,  14,  10],\n        [ 15,  13,  14]],\n\n       ...,\n\n       [[222, 222, 210],\n        [226, 226, 214],\n        [232, 232, 220],\n        ...,\n        [249, 250, 245],\n        [ 15,  15,  13],\n        [ 14,  14,  14]],\n\n       [[231, 231, 221],\n        [229, 229, 219],\n        [225, 225, 215],\n        ...,\n        [249, 250, 245],\n        [ 15,  15,  13],\n        [ 14,  14,  14]],\n\n       [[226, 226, 216],\n        [231, 231, 221],\n        [230, 230, 220],\n        ...,\n        [249, 250, 245],\n        [ 15,  15,  13],\n        [ 14,  14,  14]]], dtype=uint8), 1"
     ]
    }
   ],
   "source": [
    "image_photo = io.imread(photo)\n",
    "    \n",
    "detect_photo = detector(image_photo, 1)\n",
    "rects.append(detect_photo[0])\n",
    "    \n",
    "shape = sp(image_photo, detect_pthoto[0])\n",
    "shapes.append(shape)\n",
    "    \n",
    "face_desc = facerec.compute_face_descriptor(image_photo, shape)\n",
    "descriptors.append(face_desc)"
   ]
  },
  {
   "cell_type": "code",
   "execution_count": null,
   "metadata": {},
   "outputs": [],
   "source": []
  }
 ],
 "metadata": {
  "kernelspec": {
   "display_name": "Python 3",
   "language": "python",
   "name": "python3"
  },
  "language_info": {
   "codemirror_mode": {
    "name": "ipython",
    "version": 3
   },
   "file_extension": ".py",
   "mimetype": "text/x-python",
   "name": "python",
   "nbconvert_exporter": "python",
   "pygments_lexer": "ipython3",
   "version": "3.6.10"
  }
 },
 "nbformat": 4,
 "nbformat_minor": 4
}

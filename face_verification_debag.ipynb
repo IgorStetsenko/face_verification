{
 "cells": [
  {
   "cell_type": "code",
   "execution_count": 3,
   "metadata": {},
   "outputs": [],
   "source": [
    "import glob\n",
    "import dlib\n",
    "from skimage import io\n",
    "from scipy.spatial.distance import euclidean"
   ]
  },
  {
   "cell_type": "code",
   "execution_count": 4,
   "metadata": {},
   "outputs": [
    {
     "name": "stdout",
     "output_type": "stream",
     "text": [
      " ’®¬ ў гбва®©бвўҐ C ­Ґ Ё¬ҐҐв ¬ҐвЄЁ.\n",
      " ‘ҐаЁ©­л© ­®¬Ґа в®¬ : 169E-08D5\n",
      "\n",
      " ‘®¤Ґа¦Ё¬®Ґ Ї ЇЄЁ C:\\Users\\igor\\Data_science\\1\\face_verification\n",
      "\n",
      "17.05.2020  23:58    <DIR>          .\n",
      "17.05.2020  23:58    <DIR>          ..\n",
      "18.05.2020  00:00    <DIR>          .idea\n",
      "17.05.2020  22:53    <DIR>          .ipynb_checkpoints\n",
      "16.05.2020  23:21           531я990 0.jpg\n",
      "16.05.2020  23:35           133я120 1.jpg\n",
      "16.05.2020  23:13        22я466я066 dlib_face_recognition_resnet_model_v1.dat\n",
      "17.05.2020  22:57            14я251 face_verification_debag.ipynb\n",
      "17.05.2020  23:58               462 main.py\n",
      "17.05.2020  22:19    <DIR>          photo\n",
      "12.05.2020  18:40                19 README.md\n",
      "16.05.2020  23:11        99я693я937 shape_predictor_68_face_landmarks.dat\n",
      "               7 д ©«®ў    122я839я845 Ў ©в\n",
      "               5 Ї Ї®Є  10я253я533я184 Ў ©в бў®Ў®¤­®\n"
     ]
    }
   ],
   "source": [
    "ls"
   ]
  },
  {
   "cell_type": "code",
   "execution_count": 5,
   "metadata": {},
   "outputs": [],
   "source": [
    "sp = dlib.shape_predictor('shape_predictor_68_face_landmarks.dat')\n",
    "facerec = dlib.face_recognition_model_v1('dlib_face_recognition_resnet_model_v1.dat')\n",
    "detector = dlib.get_frontal_face_detector()"
   ]
  },
  {
   "cell_type": "code",
   "execution_count": 6,
   "metadata": {},
   "outputs": [],
   "source": [
    "pass_to_photo='photo'"
   ]
  },
  {
   "cell_type": "code",
   "execution_count": 7,
   "metadata": {},
   "outputs": [],
   "source": [
    "name_photo_file = glob.glob('*.jpg')"
   ]
  },
  {
   "cell_type": "code",
   "execution_count": 9,
   "metadata": {},
   "outputs": [],
   "source": [
    "list_names = [i.replace('\\\\', '/') for i in name_photo_file]"
   ]
  },
  {
   "cell_type": "code",
   "execution_count": 11,
   "metadata": {},
   "outputs": [],
   "source": [
    "rects = []\n",
    "shapes=[]\n",
    "descriptors=[]\n",
    "for photo in list_names:\n",
    "    image_photo = io.imread(photo)\n",
    "    \n",
    "    detect_photo = detector(image_photo, 1)\n",
    "    rects.append(detect_photo[0])\n",
    "    \n",
    "    shape = sp(image_photo, detect_photo[0])\n",
    "    shapes.append(shape)\n",
    "    \n",
    "    face_desc = facerec.compute_face_descriptor(image_photo, shape)\n",
    "    descriptors.append(face_desc)"
   ]
  },
  {
   "cell_type": "code",
   "execution_count": null,
   "metadata": {},
   "outputs": [],
   "source": []
  },
  {
   "cell_type": "code",
   "execution_count": 174,
   "metadata": {},
   "outputs": [
    {
     "name": "stdout",
     "output_type": "stream",
     "text": [
      " 0.43373294853338207\n"
     ]
    }
   ],
   "source": [
    "print(' {0}'.format(euclidean(descriptors[0], descriptors[1])))"
   ]
  },
  {
   "cell_type": "code",
   "execution_count": 15,
   "metadata": {},
   "outputs": [
    {
     "name": "stdout",
     "output_type": "stream",
     "text": [
      "0.43373294853338207\n"
     ]
    }
   ],
   "source": [
    "euclidean(descriptors[0], descriptors[1])"
   ]
  },
  {
   "cell_type": "code",
   "execution_count": 180,
   "metadata": {},
   "outputs": [
    {
     "data": {
      "text/plain": [
       "[rectangle(502,428,1167,1094), rectangle(86,574,175,664)]"
      ]
     },
     "execution_count": 180,
     "metadata": {},
     "output_type": "execute_result"
    }
   ],
   "source": [
    "rects"
   ]
  },
  {
   "cell_type": "code",
   "execution_count": 13,
   "metadata": {},
   "outputs": [],
   "source": [
    "win = dlib.image_window()\n",
    "win.add_overlay(rects[0])\n",
    "win.add_overlay(shapes[0])\n",
    "win.set_image(io.imread(list_names[0]))"
   ]
  },
  {
   "cell_type": "code",
   "execution_count": 178,
   "metadata": {},
   "outputs": [],
   "source": []
  },
  {
   "cell_type": "code",
   "execution_count": 190,
   "metadata": {},
   "outputs": [],
   "source": [
    "win = dlib.image_window()\n",
    "win.add_overlay(rects[1])\n",
    "win.add_overlay(shapes[1])\n",
    "win.set_image(io.imread(list_names[1]))"
   ]
  },
  {
   "cell_type": "code",
   "execution_count": 183,
   "metadata": {},
   "outputs": [],
   "source": [
    "win.set_image(io.imread(list_names[1]))"
   ]
  },
  {
   "cell_type": "code",
   "execution_count": 187,
   "metadata": {},
   "outputs": [
    {
     "data": {
      "text/plain": [
       "<dlib.image_window at 0x19b4ac88e68>"
      ]
     },
     "execution_count": 187,
     "metadata": {},
     "output_type": "execute_result"
    }
   ],
   "source": [
    "win"
   ]
  },
  {
   "cell_type": "code",
   "execution_count": null,
   "metadata": {},
   "outputs": [],
   "source": []
  },
  {
   "cell_type": "code",
   "execution_count": null,
   "metadata": {},
   "outputs": [],
   "source": []
  },
  {
   "cell_type": "code",
   "execution_count": null,
   "metadata": {},
   "outputs": [],
   "source": []
  },
  {
   "cell_type": "code",
   "execution_count": null,
   "metadata": {},
   "outputs": [],
   "source": []
  }
 ],
 "metadata": {
  "kernelspec": {
   "display_name": "Python 3",
   "language": "python",
   "name": "python3"
  },
  "language_info": {
   "codemirror_mode": {
    "name": "ipython",
    "version": 3
   },
   "file_extension": ".py",
   "mimetype": "text/x-python",
   "name": "python",
   "nbconvert_exporter": "python",
   "pygments_lexer": "ipython3",
   "version": "3.6.10"
  }
 },
 "nbformat": 4,
 "nbformat_minor": 4
}
